{
  "cells": [
    {
      "cell_type": "markdown",
      "metadata": {
        "id": "view-in-github",
        "colab_type": "text"
      },
      "source": [
        "<a href=\"https://colab.research.google.com/github/nayoonchoi00/algo2024_PBL_indi/blob/main/PBL_Indi_del_med.ipynb\" target=\"_parent\"><img src=\"https://colab.research.google.com/assets/colab-badge.svg\" alt=\"Open In Colab\"/></a>"
      ]
    },
    {
      "cell_type": "markdown",
      "metadata": {
        "id": "fbDfBeUV7AMn"
      },
      "source": [
        "## PBL(1): Individual Project Work"
      ]
    },
    {
      "cell_type": "code",
      "execution_count": 166,
      "metadata": {
        "id": "Ij5jAIIU7AMp"
      },
      "outputs": [],
      "source": [
        "project = \"housingprice\"\n",
        "username = \"22011271@sju.ac.kr\"\n",
        "password = \"0128\""
      ]
    },
    {
      "cell_type": "code",
      "execution_count": 167,
      "metadata": {
        "id": "2soZKEPD7AMq"
      },
      "outputs": [],
      "source": [
        "import os\n",
        "import urllib.request\n",
        "\n",
        "if not os.path.exists(\"competition.py\"):\n",
        "    url = \"https://raw.githubusercontent.com/agtechresearch/LectureAlgorithm/main/competition/competition.py\"\n",
        "    filename = \"competition.py\"\n",
        "    urllib.request.urlretrieve(url, filename)"
      ]
    },
    {
      "cell_type": "code",
      "execution_count": 168,
      "metadata": {
        "id": "qvkmO0C77AMr",
        "outputId": "6885172b-099c-4e0d-af63-47641f274576",
        "colab": {
          "base_uri": "https://localhost:8080/"
        }
      },
      "outputs": [
        {
          "output_type": "stream",
          "name": "stderr",
          "text": [
            "100%|██████████| 141k/141k [00:00<00:00, 2.87MiB/s]\n"
          ]
        }
      ],
      "source": [
        "import competition\n",
        "\n",
        "# 파일 다운로드\n",
        "competition.download_competition_files(project)"
      ]
    },
    {
      "cell_type": "code",
      "execution_count": 169,
      "metadata": {
        "id": "RVFo3hZ67AMs"
      },
      "outputs": [],
      "source": [
        "import pandas as pd\n",
        "import numpy as np\n",
        "import matplotlib.pyplot as plt\n",
        "import seaborn as sns\n",
        "import warnings\n",
        "\n",
        "# 경고 무시\n",
        "warnings.filterwarnings(\"ignore\")\n",
        "\n",
        "# Data 경로 설정\n",
        "DATA_DIR = \"data\""
      ]
    },
    {
      "cell_type": "code",
      "execution_count": 170,
      "metadata": {
        "id": "9FzTp9Ls7AMt"
      },
      "outputs": [],
      "source": [
        "# 학습에 사용할 과거 주택매매 data set 로드 (dataset.csv)\n",
        "dataset = pd.read_csv(os.path.join(DATA_DIR, \"dataset.csv\"))\n",
        "\n",
        "# problem set 로드 (problem.csv)\n",
        "problemset = pd.read_csv(os.path.join(DATA_DIR, \"problem.csv\"))"
      ]
    },
    {
      "cell_type": "code",
      "execution_count": 171,
      "metadata": {
        "id": "i-wLH3N27AMt"
      },
      "outputs": [],
      "source": [
        "# 변수가 24개가 있으므로, 모든 변수를 출력하려면 다음과 같이 설정해야 함\n",
        "pd.options.display.max_columns = 30"
      ]
    },
    {
      "cell_type": "markdown",
      "metadata": {
        "id": "OoVgXXh-7AMu"
      },
      "source": [
        "## 데이터 전처리 및 모델 학습"
      ]
    },
    {
      "cell_type": "code",
      "execution_count": 172,
      "metadata": {
        "id": "r-5TWKh47AMu"
      },
      "outputs": [],
      "source": [
        "# data 와 problem 데이터들을 합쳐서 하나의 데이터로 만들어줍니다 --> 아래의 데이터 전처리 후 다시 분리할 예정\n",
        "all_data = pd.concat([dataset, problemset], ignore_index=True)\n",
        "\n",
        "# select_dtypes 함수를 사용하여 데이터 타입이 object(문자형 데이터)인 열을 제외\n",
        "# select_dtypes 함수는 열에 포함된 데이터들을 type 기준으로 인덱싱 할 수 있도록 해줌\n",
        "# select_dtypes(include=None, exclude=None) 형태를 가지며, include에 넣은값을 포함하고 exclude에 넣은 값을 제외한 columns(열)을 DaraFrame 형태로 반환함. 원핫인코딩 같은 다른 방법도 있음.\n",
        "all_data = all_data.select_dtypes(exclude=\"object\")\n",
        "\n",
        "import pandas as pd\n",
        "\n",
        "# 결측치를 중앙값으로 대체\n",
        "all_data.fillna(all_data.median(), inplace=True)\n",
        "\n",
        "# Id 열을 제거\n",
        "all_data = all_data.drop([\"Id\"], axis=1)"
      ]
    },
    {
      "cell_type": "code",
      "execution_count": 173,
      "metadata": {
        "id": "LN1FFvTI7AMu"
      },
      "outputs": [],
      "source": [
        "# 학습 데이터와 문제 데이터로 다시금 분리\n",
        "train_data = all_data[: len(dataset)]\n",
        "problem_data = all_data[len(dataset):]"
      ]
    },
    {
      "cell_type": "code",
      "source": [
        "train_data.isnull().sum()"
      ],
      "metadata": {
        "colab": {
          "base_uri": "https://localhost:8080/"
        },
        "id": "9LowLa-QzvPL",
        "outputId": "b2cec596-1b43-4b0f-f942-21946fa65ea7"
      },
      "execution_count": 174,
      "outputs": [
        {
          "output_type": "execute_result",
          "data": {
            "text/plain": [
              "LotArea         0\n",
              "OverallQual     0\n",
              "OverallCond     0\n",
              "YearBuilt       0\n",
              "YearRemodAdd    0\n",
              "TotalBsmtSF     0\n",
              "1stFlrSF        0\n",
              "2ndFlrSF        0\n",
              "GrLivArea       0\n",
              "FullBath        0\n",
              "HalfBath        0\n",
              "BedroomAbvGr    0\n",
              "KitchenAbvGr    0\n",
              "TotRmsAbvGrd    0\n",
              "Fireplaces      0\n",
              "GarageYrBlt     0\n",
              "GarageCars      0\n",
              "GarageArea      0\n",
              "YrSold          0\n",
              "SalePrice       0\n",
              "dtype: int64"
            ]
          },
          "metadata": {},
          "execution_count": 174
        }
      ]
    },
    {
      "cell_type": "code",
      "execution_count": 175,
      "metadata": {
        "id": "pZT9tnNM7AMu"
      },
      "outputs": [],
      "source": [
        "# 학습 데이터의 SalePrice 열을 제외한 나머지 열을 X로 지정, SalePrice 열을 Y로 지정\n",
        "X = train_data.drop(\"SalePrice\", axis=1)\n",
        "Y = train_data[\"SalePrice\"]"
      ]
    },
    {
      "cell_type": "code",
      "execution_count": 176,
      "metadata": {
        "id": "ddKZfXup7AMv"
      },
      "outputs": [],
      "source": [
        "# 모델 학습을 위해 학습 데이터를 80%의 학습 데이터(train)와 20%의 검증 데이터(test)로 나눔\n",
        "from sklearn.model_selection import train_test_split\n",
        "\n",
        "x_train, x_test, y_train, y_test = train_test_split(X, Y, test_size=0.2)"
      ]
    },
    {
      "cell_type": "markdown",
      "source": [
        "#**RandomForest**"
      ],
      "metadata": {
        "id": "gBFlgU6bn-_C"
      }
    },
    {
      "cell_type": "code",
      "execution_count": 177,
      "metadata": {
        "id": "AMGQ_Bdy7AMv",
        "outputId": "9743dbdf-7819-47f3-e884-1b7472185b50",
        "colab": {
          "base_uri": "https://localhost:8080/",
          "height": 52
        }
      },
      "outputs": [
        {
          "output_type": "execute_result",
          "data": {
            "text/plain": [
              "'\\n# 랜덤 포레스트 모델을 사용하여 학습\\nfrom sklearn.ensemble import RandomForestRegressor\\n\\nmodel = RandomForestRegressor()\\nmodel.fit(x_train, y_train)\\n'"
            ],
            "application/vnd.google.colaboratory.intrinsic+json": {
              "type": "string"
            }
          },
          "metadata": {},
          "execution_count": 177
        }
      ],
      "source": [
        "'''\n",
        "# 랜덤 포레스트 모델을 사용하여 학습\n",
        "from sklearn.ensemble import RandomForestRegressor\n",
        "\n",
        "model = RandomForestRegressor()\n",
        "model.fit(x_train, y_train)\n",
        "'''"
      ]
    },
    {
      "cell_type": "code",
      "execution_count": 178,
      "metadata": {
        "id": "Zu3ciWVy7AMv",
        "outputId": "9f219484-1e94-4e69-e5d2-70441d7d7508",
        "colab": {
          "base_uri": "https://localhost:8080/",
          "height": 70
        }
      },
      "outputs": [
        {
          "output_type": "execute_result",
          "data": {
            "text/plain": [
              "'\\n# train 데이터와 test 데이터에 대한 예측값을 구하고 RMSE 값을 계산\\nfrom sklearn.metrics import mean_squared_error\\n\\ntrain_pred = model.predict(x_train)\\ntest_pred = model.predict(x_test)\\n\\nprint(\"Train RMSE :\", mean_squared_error(y_train, train_pred) ** 0.5)\\nprint(\"Test RMSE :\", mean_squared_error(y_test, test_pred) ** 0.5)\\n'"
            ],
            "application/vnd.google.colaboratory.intrinsic+json": {
              "type": "string"
            }
          },
          "metadata": {},
          "execution_count": 178
        }
      ],
      "source": [
        "'''\n",
        "# train 데이터와 test 데이터에 대한 예측값을 구하고 RMSE 값을 계산\n",
        "from sklearn.metrics import mean_squared_error\n",
        "\n",
        "train_pred = model.predict(x_train)\n",
        "test_pred = model.predict(x_test)\n",
        "\n",
        "print(\"Train RMSE :\", mean_squared_error(y_train, train_pred) ** 0.5)\n",
        "print(\"Test RMSE :\", mean_squared_error(y_test, test_pred) ** 0.5)\n",
        "'''"
      ]
    },
    {
      "cell_type": "markdown",
      "source": [
        "# **XGBoost**"
      ],
      "metadata": {
        "id": "MXA6rWWToHVS"
      }
    },
    {
      "cell_type": "code",
      "source": [
        "'''\n",
        "# XGBoost 모델을 사용하여 학습\n",
        "import xgboost as xgb\n",
        "\n",
        "# XGBoost 모델 생성 및 학습\n",
        "model = xgb.XGBRegressor()\n",
        "model.fit(x_train, y_train)\n",
        "'''"
      ],
      "metadata": {
        "colab": {
          "base_uri": "https://localhost:8080/",
          "height": 35
        },
        "id": "K_mY1679oGr2",
        "outputId": "a1df0bc1-c1b9-4063-ae37-099e19928c3f"
      },
      "execution_count": 179,
      "outputs": [
        {
          "output_type": "execute_result",
          "data": {
            "text/plain": [
              "'\\n# XGBoost 모델을 사용하여 학습\\nimport xgboost as xgb\\n\\n# XGBoost 모델 생성 및 학습\\nmodel = xgb.XGBRegressor()\\nmodel.fit(x_train, y_train)\\n'"
            ],
            "application/vnd.google.colaboratory.intrinsic+json": {
              "type": "string"
            }
          },
          "metadata": {},
          "execution_count": 179
        }
      ]
    },
    {
      "cell_type": "code",
      "source": [
        "'''\n",
        "# train 데이터와 test 데이터에 대한 예측값을 구하고 RMSE 값을 계산\n",
        "from sklearn.metrics import mean_squared_error\n",
        "\n",
        "train_pred = model.predict(x_train)\n",
        "test_pred = model.predict(x_test)\n",
        "\n",
        "print(\"Train RMSE :\", mean_squared_error(y_train, train_pred) ** 0.5)\n",
        "print(\"Test RMSE :\", mean_squared_error(y_test, test_pred) ** 0.5)\n",
        "'''"
      ],
      "metadata": {
        "colab": {
          "base_uri": "https://localhost:8080/",
          "height": 70
        },
        "id": "jyeQ_2-AohkX",
        "outputId": "65106d02-067e-49f8-ab4b-d219bd25c00f"
      },
      "execution_count": 180,
      "outputs": [
        {
          "output_type": "execute_result",
          "data": {
            "text/plain": [
              "'\\n# train 데이터와 test 데이터에 대한 예측값을 구하고 RMSE 값을 계산\\nfrom sklearn.metrics import mean_squared_error\\n\\ntrain_pred = model.predict(x_train)\\ntest_pred = model.predict(x_test)\\n\\nprint(\"Train RMSE :\", mean_squared_error(y_train, train_pred) ** 0.5)\\nprint(\"Test RMSE :\", mean_squared_error(y_test, test_pred) ** 0.5)\\n'"
            ],
            "application/vnd.google.colaboratory.intrinsic+json": {
              "type": "string"
            }
          },
          "metadata": {},
          "execution_count": 180
        }
      ]
    },
    {
      "cell_type": "markdown",
      "source": [
        "# **LightGBM**"
      ],
      "metadata": {
        "id": "CkIXXd-5pIM8"
      }
    },
    {
      "cell_type": "code",
      "source": [
        "'''\n",
        "import lightgbm as lgb\n",
        "\n",
        "# LightGBM 데이터셋으로 변환\n",
        "train_data = lgb.Dataset(x_train, label=y_train)\n",
        "test_data = lgb.Dataset(x_test, label=y_test)\n",
        "\n",
        "# LightGBM 모델 설정\n",
        "params = {'objective': 'regression', 'metric': 'rmse'}\n",
        "num_round = 1000\n",
        "\n",
        "# LightGBM 모델 학습\n",
        "model = lgb.train(params, train_data, num_round, valid_sets=[test_data])\n",
        "\n",
        "# 테스트 데이터에 대한 예측 수행\n",
        "y_pred = model.predict(x_test, num_iteration = model.best_iteration)\n",
        "'''"
      ],
      "metadata": {
        "colab": {
          "base_uri": "https://localhost:8080/",
          "height": 70
        },
        "id": "qGLX7yuPpHo_",
        "outputId": "2fc9b5ca-2f82-40fa-adc8-c6aaf1f4d542"
      },
      "execution_count": 181,
      "outputs": [
        {
          "output_type": "execute_result",
          "data": {
            "text/plain": [
              "\"\\nimport lightgbm as lgb\\n\\n# LightGBM 데이터셋으로 변환\\ntrain_data = lgb.Dataset(x_train, label=y_train)\\ntest_data = lgb.Dataset(x_test, label=y_test)\\n\\n# LightGBM 모델 설정\\nparams = {'objective': 'regression', 'metric': 'rmse'}\\nnum_round = 1000\\n\\n# LightGBM 모델 학습\\nmodel = lgb.train(params, train_data, num_round, valid_sets=[test_data])\\n\\n# 테스트 데이터에 대한 예측 수행\\ny_pred = model.predict(x_test, num_iteration = model.best_iteration)\\n\""
            ],
            "application/vnd.google.colaboratory.intrinsic+json": {
              "type": "string"
            }
          },
          "metadata": {},
          "execution_count": 181
        }
      ]
    },
    {
      "cell_type": "code",
      "source": [
        "'''\n",
        "# train 데이터와 test 데이터에 대한 예측값을 구하고 RMSE 값을 계산\n",
        "from sklearn.metrics import mean_squared_error\n",
        "\n",
        "train_pred = model.predict(x_train)\n",
        "test_pred = model.predict(x_test)\n",
        "\n",
        "print(\"Train RMSE :\", mean_squared_error(y_train, train_pred) ** 0.5)\n",
        "print(\"Test RMSE :\", mean_squared_error(y_test, test_pred) ** 0.5)\n",
        "'''"
      ],
      "metadata": {
        "colab": {
          "base_uri": "https://localhost:8080/",
          "height": 70
        },
        "id": "v-IjsqcsphVq",
        "outputId": "f9ea4d2d-c905-4c7b-cbe3-e4d86475421e"
      },
      "execution_count": 182,
      "outputs": [
        {
          "output_type": "execute_result",
          "data": {
            "text/plain": [
              "'\\n# train 데이터와 test 데이터에 대한 예측값을 구하고 RMSE 값을 계산\\nfrom sklearn.metrics import mean_squared_error\\n\\ntrain_pred = model.predict(x_train)\\ntest_pred = model.predict(x_test)\\n\\nprint(\"Train RMSE :\", mean_squared_error(y_train, train_pred) ** 0.5)\\nprint(\"Test RMSE :\", mean_squared_error(y_test, test_pred) ** 0.5)\\n'"
            ],
            "application/vnd.google.colaboratory.intrinsic+json": {
              "type": "string"
            }
          },
          "metadata": {},
          "execution_count": 182
        }
      ]
    },
    {
      "cell_type": "markdown",
      "source": [
        "# **앙상블 학습**"
      ],
      "metadata": {
        "id": "nnsA9_8jas9b"
      }
    },
    {
      "cell_type": "markdown",
      "source": [
        "# **Gradient Boosting**"
      ],
      "metadata": {
        "id": "pMS6xgH_VBkR"
      }
    },
    {
      "cell_type": "code",
      "source": [
        "from sklearn.ensemble import GradientBoostingRegressor\n",
        "\n",
        "# Gradient Boosting 모델 생성 및 학습\n",
        "model = GradientBoostingRegressor()\n",
        "model.fit(x_train, y_train)\n",
        "\n",
        "# 테스트 데이터에 대한 예측 수행\n",
        "y_pred = model.predict(x_test)"
      ],
      "metadata": {
        "id": "82Ep1EL7VFtN"
      },
      "execution_count": 183,
      "outputs": []
    },
    {
      "cell_type": "code",
      "source": [
        "# train 데이터와 test 데이터에 대한 예측값을 구하고 RMSE 값을 계산\n",
        "from sklearn.metrics import mean_squared_error\n",
        "\n",
        "train_pred = model.predict(x_train)\n",
        "test_pred = model.predict(x_test)\n",
        "\n",
        "print(\"Train RMSE :\", mean_squared_error(y_train, train_pred) ** 0.5)\n",
        "print(\"Test RMSE :\", mean_squared_error(y_test, test_pred) ** 0.5)"
      ],
      "metadata": {
        "colab": {
          "base_uri": "https://localhost:8080/"
        },
        "id": "Szy_ShFpVGD0",
        "outputId": "dc6465ee-cf32-4162-ae93-dc3017f8df35"
      },
      "execution_count": 184,
      "outputs": [
        {
          "output_type": "stream",
          "name": "stdout",
          "text": [
            "Train RMSE : 17008.617370753615\n",
            "Test RMSE : 22857.04171688172\n"
          ]
        }
      ]
    },
    {
      "cell_type": "markdown",
      "source": [
        "# **Random Forest + Gradient Boosting**"
      ],
      "metadata": {
        "id": "Sv1RXX8pXJlj"
      }
    },
    {
      "cell_type": "code",
      "source": [
        "'''\n",
        "from sklearn.ensemble import RandomForestRegressor, GradientBoostingRegressor\n",
        "\n",
        "# 랜덤 포레스트 모델 생성 및 학습\n",
        "rf_model = RandomForestRegressor()\n",
        "rf_model.fit(x_train, y_train)\n",
        "\n",
        "# 그래디언트 부스팅 모델 생성 및 학습\n",
        "gb_model = GradientBoostingRegressor()\n",
        "gb_model.fit(x_train, y_train)\n",
        "\n",
        "# 두 모델의 예측 수행\n",
        "rf_pred = rf_model.predict(x_test)\n",
        "gb_pred = gb_model.predict(x_test)\n",
        "\n",
        "# 예측값의 평균을 구하여 앙상블 예측값 생성\n",
        "ensemble_pred = (rf_pred + gb_pred) / 2\n",
        "'''"
      ],
      "metadata": {
        "colab": {
          "base_uri": "https://localhost:8080/",
          "height": 87
        },
        "id": "bVZOfujgXPXZ",
        "outputId": "a0c5c0ae-0404-4860-8f1c-4c6e62ed04d6"
      },
      "execution_count": 185,
      "outputs": [
        {
          "output_type": "execute_result",
          "data": {
            "text/plain": [
              "'\\nfrom sklearn.ensemble import RandomForestRegressor, GradientBoostingRegressor\\n\\n# 랜덤 포레스트 모델 생성 및 학습\\nrf_model = RandomForestRegressor()\\nrf_model.fit(x_train, y_train)\\n\\n# 그래디언트 부스팅 모델 생성 및 학습\\ngb_model = GradientBoostingRegressor()\\ngb_model.fit(x_train, y_train)\\n\\n# 두 모델의 예측 수행\\nrf_pred = rf_model.predict(x_test)\\ngb_pred = gb_model.predict(x_test)\\n\\n# 예측값의 평균을 구하여 앙상블 예측값 생성\\nensemble_pred = (rf_pred + gb_pred) / 2\\n'"
            ],
            "application/vnd.google.colaboratory.intrinsic+json": {
              "type": "string"
            }
          },
          "metadata": {},
          "execution_count": 185
        }
      ]
    },
    {
      "cell_type": "code",
      "source": [
        "'''\n",
        "# 앙상블 모델 평가 (RMSE 계산)\n",
        "from sklearn.metrics import mean_squared_error\n",
        "\n",
        "rmse = mean_squared_error(y_test, ensemble_pred, squared=False)\n",
        "print(\"Ensemble RMSE:\", rmse)\n",
        "'''"
      ],
      "metadata": {
        "colab": {
          "base_uri": "https://localhost:8080/",
          "height": 52
        },
        "id": "J9R4wSH-XjpO",
        "outputId": "28cc12c0-98f6-4b19-be26-84bb5ca98e50"
      },
      "execution_count": 186,
      "outputs": [
        {
          "output_type": "execute_result",
          "data": {
            "text/plain": [
              "'\\n# 앙상블 모델 평가 (RMSE 계산)\\nfrom sklearn.metrics import mean_squared_error\\n\\nrmse = mean_squared_error(y_test, ensemble_pred, squared=False)\\nprint(\"Ensemble RMSE:\", rmse)\\n'"
            ],
            "application/vnd.google.colaboratory.intrinsic+json": {
              "type": "string"
            }
          },
          "metadata": {},
          "execution_count": 186
        }
      ]
    },
    {
      "cell_type": "markdown",
      "source": [
        "# **보팅(Voting) 앙상블**"
      ],
      "metadata": {
        "id": "Nnk7jX5iY7sO"
      }
    },
    {
      "cell_type": "code",
      "source": [
        "'''\n",
        "from sklearn.ensemble import VotingRegressor\n",
        "from sklearn.linear_model import LinearRegression\n",
        "from sklearn.tree import DecisionTreeRegressor\n",
        "from sklearn.ensemble import RandomForestRegressor\n",
        "\n",
        "# 보팅 앙상블 모델 생성\n",
        "model1 = LinearRegression()\n",
        "model2 = DecisionTreeRegressor()\n",
        "model3 = RandomForestRegressor()\n",
        "voting_model = VotingRegressor(estimators=[('lr', model1), ('dt', model2), ('rf', model3)])\n",
        "\n",
        "# 보팅 앙상블 모델 학습\n",
        "voting_model.fit(x_train, y_train)\n",
        "'''"
      ],
      "metadata": {
        "colab": {
          "base_uri": "https://localhost:8080/",
          "height": 87
        },
        "id": "e9Gm1hsjY7XS",
        "outputId": "a324a31b-29df-49ee-e007-0b7e8ad702b2"
      },
      "execution_count": 187,
      "outputs": [
        {
          "output_type": "execute_result",
          "data": {
            "text/plain": [
              "\"\\nfrom sklearn.ensemble import VotingRegressor\\nfrom sklearn.linear_model import LinearRegression\\nfrom sklearn.tree import DecisionTreeRegressor\\nfrom sklearn.ensemble import RandomForestRegressor\\n\\n# 보팅 앙상블 모델 생성\\nmodel1 = LinearRegression()\\nmodel2 = DecisionTreeRegressor()\\nmodel3 = RandomForestRegressor()\\nvoting_model = VotingRegressor(estimators=[('lr', model1), ('dt', model2), ('rf', model3)])\\n\\n# 보팅 앙상블 모델 학습\\nvoting_model.fit(x_train, y_train)\\n\""
            ],
            "application/vnd.google.colaboratory.intrinsic+json": {
              "type": "string"
            }
          },
          "metadata": {},
          "execution_count": 187
        }
      ]
    },
    {
      "cell_type": "code",
      "source": [
        "'''\n",
        "from sklearn.metrics import mean_squared_error\n",
        "\n",
        "# 학습 데이터에 대한 예측 수행\n",
        "train_pred = voting_model.predict(x_train)\n",
        "train_rmse = mean_squared_error(y_train, train_pred, squared=False)\n",
        "print(\"Train RMSE:\", train_rmse)\n",
        "\n",
        "# 테스트 데이터에 대한 예측 수행\n",
        "test_pred = voting_model.predict(x_test)\n",
        "test_rmse = mean_squared_error(y_test, test_pred, squared=False)\n",
        "print(\"Test RMSE:\", test_rmse)\n",
        "'''"
      ],
      "metadata": {
        "colab": {
          "base_uri": "https://localhost:8080/",
          "height": 70
        },
        "id": "hDgImI_nZIAc",
        "outputId": "ac556924-cc54-4a04-8976-89f53c551f44"
      },
      "execution_count": 188,
      "outputs": [
        {
          "output_type": "execute_result",
          "data": {
            "text/plain": [
              "'\\nfrom sklearn.metrics import mean_squared_error\\n\\n# 학습 데이터에 대한 예측 수행\\ntrain_pred = voting_model.predict(x_train)\\ntrain_rmse = mean_squared_error(y_train, train_pred, squared=False)\\nprint(\"Train RMSE:\", train_rmse)\\n\\n# 테스트 데이터에 대한 예측 수행\\ntest_pred = voting_model.predict(x_test)\\ntest_rmse = mean_squared_error(y_test, test_pred, squared=False)\\nprint(\"Test RMSE:\", test_rmse)\\n'"
            ],
            "application/vnd.google.colaboratory.intrinsic+json": {
              "type": "string"
            }
          },
          "metadata": {},
          "execution_count": 188
        }
      ]
    },
    {
      "cell_type": "markdown",
      "source": [
        "# **배깅(Bagging) 앙상블**"
      ],
      "metadata": {
        "id": "UQ-5GNjgZHur"
      }
    },
    {
      "cell_type": "code",
      "source": [
        "'''\n",
        "from sklearn.ensemble import BaggingRegressor\n",
        "from sklearn.tree import DecisionTreeRegressor\n",
        "\n",
        "# 기본 모델 정의 (단일 의사결정트리)\n",
        "base_model = DecisionTreeRegressor()\n",
        "\n",
        "# 배깅 앙상블 모델 생성\n",
        "bagging_model = BaggingRegressor(base_model, n_estimators=10, random_state=42)\n",
        "\n",
        "# 배깅 앙상블 모델 학습\n",
        "bagging_model.fit(x_train, y_train)\n",
        "'''"
      ],
      "metadata": {
        "colab": {
          "base_uri": "https://localhost:8080/",
          "height": 70
        },
        "id": "8p1y7LJnZowi",
        "outputId": "99d345d2-245e-4492-92f4-36155e17221b"
      },
      "execution_count": 189,
      "outputs": [
        {
          "output_type": "execute_result",
          "data": {
            "text/plain": [
              "'\\nfrom sklearn.ensemble import BaggingRegressor\\nfrom sklearn.tree import DecisionTreeRegressor\\n\\n# 기본 모델 정의 (단일 의사결정트리)\\nbase_model = DecisionTreeRegressor()\\n\\n# 배깅 앙상블 모델 생성\\nbagging_model = BaggingRegressor(base_model, n_estimators=10, random_state=42)\\n\\n# 배깅 앙상블 모델 학습\\nbagging_model.fit(x_train, y_train)\\n'"
            ],
            "application/vnd.google.colaboratory.intrinsic+json": {
              "type": "string"
            }
          },
          "metadata": {},
          "execution_count": 189
        }
      ]
    },
    {
      "cell_type": "code",
      "source": [
        "'''\n",
        "# 학습 데이터에 대한 예측 수행\n",
        "train_pred = bagging_model.predict(x_train)\n",
        "train_rmse = mean_squared_error(y_train, train_pred, squared=False)\n",
        "print(\"Train RMSE:\", train_rmse)\n",
        "\n",
        "# 테스트 데이터에 대한 예측 수행\n",
        "test_pred = bagging_model.predict(x_test)\n",
        "test_rmse = mean_squared_error(y_test, test_pred, squared=False)\n",
        "print(\"Test RMSE:\", test_rmse)\n",
        "'''"
      ],
      "metadata": {
        "colab": {
          "base_uri": "https://localhost:8080/",
          "height": 70
        },
        "id": "rrxTj80NZvkd",
        "outputId": "2b579efa-155c-4e0d-f8a1-b04f0e8155b7"
      },
      "execution_count": 190,
      "outputs": [
        {
          "output_type": "execute_result",
          "data": {
            "text/plain": [
              "'\\n# 학습 데이터에 대한 예측 수행\\ntrain_pred = bagging_model.predict(x_train)\\ntrain_rmse = mean_squared_error(y_train, train_pred, squared=False)\\nprint(\"Train RMSE:\", train_rmse)\\n\\n# 테스트 데이터에 대한 예측 수행\\ntest_pred = bagging_model.predict(x_test)\\ntest_rmse = mean_squared_error(y_test, test_pred, squared=False)\\nprint(\"Test RMSE:\", test_rmse)\\n'"
            ],
            "application/vnd.google.colaboratory.intrinsic+json": {
              "type": "string"
            }
          },
          "metadata": {},
          "execution_count": 190
        }
      ]
    },
    {
      "cell_type": "markdown",
      "source": [
        "#**하이퍼 파라미터 튜닝**"
      ],
      "metadata": {
        "id": "zzaZVt61eW4S"
      }
    },
    {
      "cell_type": "markdown",
      "source": [
        "#**Grid Search**"
      ],
      "metadata": {
        "id": "ue79PvDXeZMx"
      }
    },
    {
      "cell_type": "code",
      "source": [
        "# rmse값이 가장 좋게 나온 Gradient Boosting 의 하이퍼 파라미터 튜닝\n",
        "\n",
        "from sklearn.model_selection import GridSearchCV\n",
        "\n",
        "# 튜닝할 하이퍼파라미터 그리드 설정\n",
        "param_grid = {\n",
        "    'n_estimators': [100, 200, 300],\n",
        "    'learning_rate': [0.01, 0.1, 0.2],\n",
        "    'max_depth': [3, 4, 5]\n",
        "}\n",
        "\n",
        "# 그리드 탐색 수행\n",
        "grid_search = GridSearchCV(model, param_grid, cv=5, scoring='neg_root_mean_squared_error')\n",
        "grid_search.fit(x_train, y_train)\n",
        "\n",
        "# 최적의 하이퍼파라미터 출력\n",
        "print(\"Best Hyperparameters:\", grid_search.best_params_)\n",
        "\n",
        "# 최적 모델 선택\n",
        "best_model = grid_search.best_estimator_"
      ],
      "metadata": {
        "colab": {
          "base_uri": "https://localhost:8080/"
        },
        "id": "CnL0syPzebbL",
        "outputId": "af453dab-8f12-4746-c63d-466b6afaac97"
      },
      "execution_count": 196,
      "outputs": [
        {
          "output_type": "stream",
          "name": "stdout",
          "text": [
            "Best Hyperparameters: {'learning_rate': 0.1, 'max_depth': 5, 'n_estimators': 100}\n"
          ]
        }
      ]
    },
    {
      "cell_type": "code",
      "source": [
        "# 최적의 하이퍼파라미터 적용\n",
        "\n",
        "from sklearn.ensemble import GradientBoostingRegressor\n",
        "\n",
        "# 최적의 하이퍼파라미터를 적용하여 모델 정의\n",
        "best_model = GradientBoostingRegressor(n_estimators=100, learning_rate=0.1, max_depth=5)\n",
        "\n",
        "# 모델 학습\n",
        "best_model.fit(x_train, y_train)"
      ],
      "metadata": {
        "colab": {
          "base_uri": "https://localhost:8080/",
          "height": 74
        },
        "id": "zF5sALKJgQln",
        "outputId": "f636db80-f85d-4be7-ce36-915d888d3337"
      },
      "execution_count": 197,
      "outputs": [
        {
          "output_type": "execute_result",
          "data": {
            "text/plain": [
              "GradientBoostingRegressor(max_depth=5)"
            ],
            "text/html": [
              "<style>#sk-container-id-5 {color: black;background-color: white;}#sk-container-id-5 pre{padding: 0;}#sk-container-id-5 div.sk-toggleable {background-color: white;}#sk-container-id-5 label.sk-toggleable__label {cursor: pointer;display: block;width: 100%;margin-bottom: 0;padding: 0.3em;box-sizing: border-box;text-align: center;}#sk-container-id-5 label.sk-toggleable__label-arrow:before {content: \"▸\";float: left;margin-right: 0.25em;color: #696969;}#sk-container-id-5 label.sk-toggleable__label-arrow:hover:before {color: black;}#sk-container-id-5 div.sk-estimator:hover label.sk-toggleable__label-arrow:before {color: black;}#sk-container-id-5 div.sk-toggleable__content {max-height: 0;max-width: 0;overflow: hidden;text-align: left;background-color: #f0f8ff;}#sk-container-id-5 div.sk-toggleable__content pre {margin: 0.2em;color: black;border-radius: 0.25em;background-color: #f0f8ff;}#sk-container-id-5 input.sk-toggleable__control:checked~div.sk-toggleable__content {max-height: 200px;max-width: 100%;overflow: auto;}#sk-container-id-5 input.sk-toggleable__control:checked~label.sk-toggleable__label-arrow:before {content: \"▾\";}#sk-container-id-5 div.sk-estimator input.sk-toggleable__control:checked~label.sk-toggleable__label {background-color: #d4ebff;}#sk-container-id-5 div.sk-label input.sk-toggleable__control:checked~label.sk-toggleable__label {background-color: #d4ebff;}#sk-container-id-5 input.sk-hidden--visually {border: 0;clip: rect(1px 1px 1px 1px);clip: rect(1px, 1px, 1px, 1px);height: 1px;margin: -1px;overflow: hidden;padding: 0;position: absolute;width: 1px;}#sk-container-id-5 div.sk-estimator {font-family: monospace;background-color: #f0f8ff;border: 1px dotted black;border-radius: 0.25em;box-sizing: border-box;margin-bottom: 0.5em;}#sk-container-id-5 div.sk-estimator:hover {background-color: #d4ebff;}#sk-container-id-5 div.sk-parallel-item::after {content: \"\";width: 100%;border-bottom: 1px solid gray;flex-grow: 1;}#sk-container-id-5 div.sk-label:hover label.sk-toggleable__label {background-color: #d4ebff;}#sk-container-id-5 div.sk-serial::before {content: \"\";position: absolute;border-left: 1px solid gray;box-sizing: border-box;top: 0;bottom: 0;left: 50%;z-index: 0;}#sk-container-id-5 div.sk-serial {display: flex;flex-direction: column;align-items: center;background-color: white;padding-right: 0.2em;padding-left: 0.2em;position: relative;}#sk-container-id-5 div.sk-item {position: relative;z-index: 1;}#sk-container-id-5 div.sk-parallel {display: flex;align-items: stretch;justify-content: center;background-color: white;position: relative;}#sk-container-id-5 div.sk-item::before, #sk-container-id-5 div.sk-parallel-item::before {content: \"\";position: absolute;border-left: 1px solid gray;box-sizing: border-box;top: 0;bottom: 0;left: 50%;z-index: -1;}#sk-container-id-5 div.sk-parallel-item {display: flex;flex-direction: column;z-index: 1;position: relative;background-color: white;}#sk-container-id-5 div.sk-parallel-item:first-child::after {align-self: flex-end;width: 50%;}#sk-container-id-5 div.sk-parallel-item:last-child::after {align-self: flex-start;width: 50%;}#sk-container-id-5 div.sk-parallel-item:only-child::after {width: 0;}#sk-container-id-5 div.sk-dashed-wrapped {border: 1px dashed gray;margin: 0 0.4em 0.5em 0.4em;box-sizing: border-box;padding-bottom: 0.4em;background-color: white;}#sk-container-id-5 div.sk-label label {font-family: monospace;font-weight: bold;display: inline-block;line-height: 1.2em;}#sk-container-id-5 div.sk-label-container {text-align: center;}#sk-container-id-5 div.sk-container {/* jupyter's `normalize.less` sets `[hidden] { display: none; }` but bootstrap.min.css set `[hidden] { display: none !important; }` so we also need the `!important` here to be able to override the default hidden behavior on the sphinx rendered scikit-learn.org. See: https://github.com/scikit-learn/scikit-learn/issues/21755 */display: inline-block !important;position: relative;}#sk-container-id-5 div.sk-text-repr-fallback {display: none;}</style><div id=\"sk-container-id-5\" class=\"sk-top-container\"><div class=\"sk-text-repr-fallback\"><pre>GradientBoostingRegressor(max_depth=5)</pre><b>In a Jupyter environment, please rerun this cell to show the HTML representation or trust the notebook. <br />On GitHub, the HTML representation is unable to render, please try loading this page with nbviewer.org.</b></div><div class=\"sk-container\" hidden><div class=\"sk-item\"><div class=\"sk-estimator sk-toggleable\"><input class=\"sk-toggleable__control sk-hidden--visually\" id=\"sk-estimator-id-10\" type=\"checkbox\" checked><label for=\"sk-estimator-id-10\" class=\"sk-toggleable__label sk-toggleable__label-arrow\">GradientBoostingRegressor</label><div class=\"sk-toggleable__content\"><pre>GradientBoostingRegressor(max_depth=5)</pre></div></div></div></div></div>"
            ]
          },
          "metadata": {},
          "execution_count": 197
        }
      ]
    },
    {
      "cell_type": "code",
      "source": [
        "# train 데이터와 test 데이터에 대한 예측값을 구하고 RMSE 값을 계산\n",
        "\n",
        "from sklearn.metrics import mean_squared_error\n",
        "import numpy as np\n",
        "\n",
        "# 학습 데이터에 대한 예측\n",
        "y_train_pred = best_model.predict(x_train)\n",
        "\n",
        "# 학습 데이터에 대한 RMSE 계산\n",
        "train_rmse = np.sqrt(mean_squared_error(y_train, y_train_pred))\n",
        "print(\"Train RMSE:\", train_rmse)\n",
        "\n",
        "# 테스트 데이터에 대한 예측\n",
        "y_test_pred = best_model.predict(x_test)\n",
        "\n",
        "# 테스트 데이터에 대한 RMSE 계산\n",
        "test_rmse = np.sqrt(mean_squared_error(y_test, y_test_pred))\n",
        "print(\"Test RMSE:\", test_rmse)"
      ],
      "metadata": {
        "colab": {
          "base_uri": "https://localhost:8080/"
        },
        "id": "az0XhGFujAMG",
        "outputId": "3d25af7a-d021-4c9d-a7b2-9d52ec2de712"
      },
      "execution_count": 198,
      "outputs": [
        {
          "output_type": "stream",
          "name": "stdout",
          "text": [
            "Train RMSE: 8637.743971828571\n",
            "Test RMSE: 22941.08208778894\n"
          ]
        }
      ]
    },
    {
      "cell_type": "markdown",
      "metadata": {
        "id": "Ugyp4Nzx7AMv"
      },
      "source": [
        "## Problem set 문제에 대한 집값예측 및 리더보드 결과 제출\n",
        "\n",
        "- 아래 제출 프로세스가 느리다고 중지 후 다시 코드를 여러차례 재실행하는 경우 패널티가 발생할 수 있습니다. (제출 과정에서 제출 횟수 이슈 발생 가능: 하루 최대 200회 까지 가능)\n",
        "- 제출에 성공할 경우, \"제출에 성공하였습니다\"의 메세지와 함께 제출 결과 RMSE 가 화면에 출력됩니다.\n",
        "- 제출결과는 또한 [대회 페이지(리더보드 서버)](https://agtechresearch.pythonanywhere.com/competitions/housingprice/)의 `리더보드` 와 `제출` 탭에서 확인할 수 있습니다.\n"
      ]
    },
    {
      "cell_type": "code",
      "execution_count": 201,
      "metadata": {
        "id": "DeKugQ-I7AMw"
      },
      "outputs": [],
      "source": [
        "'''\n",
        "# 전처리 과정 중에 SalePrice 가 0으로 채워져 있기 때문에, problem_data 에서 SalePrice를 다시 제거\n",
        "problem_data = problem_data.drop(\"SalePrice\", axis=1)\n",
        "'''\n",
        "# 문제 데이터(problem data)에 대한 예측값을 구함\n",
        "problem_pred = model.predict(problem_data)"
      ]
    },
    {
      "cell_type": "code",
      "source": [
        "# 리더보드 서버 제출을 위한 파일 생성\n",
        "submission = pd.read_csv(os.path.join(DATA_DIR, \"submission.csv\"))\n",
        "submission[\"SalePrice\"] = problem_pred\n",
        "\n",
        "# 예측 결과 화면에 출력 후 제출\n",
        "display(submission)\n",
        "competition.submit(project, username, password, submission)"
      ],
      "metadata": {
        "colab": {
          "base_uri": "https://localhost:8080/",
          "height": 510
        },
        "id": "NY7s-tAYkk--",
        "outputId": "42ba1b2f-00b0-4fd7-9488-30ebee275ef1"
      },
      "execution_count": 202,
      "outputs": [
        {
          "output_type": "display_data",
          "data": {
            "text/plain": [
              "       Id      SalePrice\n",
              "0    1341  124376.562500\n",
              "1    1342  129982.508062\n",
              "2    1343  162582.778438\n",
              "3    1344  134775.725050\n",
              "4    1345   99408.809826\n",
              "..    ...            ...\n",
              "125  1466  305263.965384\n",
              "126  1467  188504.964022\n",
              "127  1468   72842.006679\n",
              "128  1469   86806.484312\n",
              "129  1470  144795.541894\n",
              "\n",
              "[130 rows x 2 columns]"
            ],
            "text/html": [
              "\n",
              "  <div id=\"df-20228978-e206-4ea5-9472-e0c6321d23de\" class=\"colab-df-container\">\n",
              "    <div>\n",
              "<style scoped>\n",
              "    .dataframe tbody tr th:only-of-type {\n",
              "        vertical-align: middle;\n",
              "    }\n",
              "\n",
              "    .dataframe tbody tr th {\n",
              "        vertical-align: top;\n",
              "    }\n",
              "\n",
              "    .dataframe thead th {\n",
              "        text-align: right;\n",
              "    }\n",
              "</style>\n",
              "<table border=\"1\" class=\"dataframe\">\n",
              "  <thead>\n",
              "    <tr style=\"text-align: right;\">\n",
              "      <th></th>\n",
              "      <th>Id</th>\n",
              "      <th>SalePrice</th>\n",
              "    </tr>\n",
              "  </thead>\n",
              "  <tbody>\n",
              "    <tr>\n",
              "      <th>0</th>\n",
              "      <td>1341</td>\n",
              "      <td>124376.562500</td>\n",
              "    </tr>\n",
              "    <tr>\n",
              "      <th>1</th>\n",
              "      <td>1342</td>\n",
              "      <td>129982.508062</td>\n",
              "    </tr>\n",
              "    <tr>\n",
              "      <th>2</th>\n",
              "      <td>1343</td>\n",
              "      <td>162582.778438</td>\n",
              "    </tr>\n",
              "    <tr>\n",
              "      <th>3</th>\n",
              "      <td>1344</td>\n",
              "      <td>134775.725050</td>\n",
              "    </tr>\n",
              "    <tr>\n",
              "      <th>4</th>\n",
              "      <td>1345</td>\n",
              "      <td>99408.809826</td>\n",
              "    </tr>\n",
              "    <tr>\n",
              "      <th>...</th>\n",
              "      <td>...</td>\n",
              "      <td>...</td>\n",
              "    </tr>\n",
              "    <tr>\n",
              "      <th>125</th>\n",
              "      <td>1466</td>\n",
              "      <td>305263.965384</td>\n",
              "    </tr>\n",
              "    <tr>\n",
              "      <th>126</th>\n",
              "      <td>1467</td>\n",
              "      <td>188504.964022</td>\n",
              "    </tr>\n",
              "    <tr>\n",
              "      <th>127</th>\n",
              "      <td>1468</td>\n",
              "      <td>72842.006679</td>\n",
              "    </tr>\n",
              "    <tr>\n",
              "      <th>128</th>\n",
              "      <td>1469</td>\n",
              "      <td>86806.484312</td>\n",
              "    </tr>\n",
              "    <tr>\n",
              "      <th>129</th>\n",
              "      <td>1470</td>\n",
              "      <td>144795.541894</td>\n",
              "    </tr>\n",
              "  </tbody>\n",
              "</table>\n",
              "<p>130 rows × 2 columns</p>\n",
              "</div>\n",
              "    <div class=\"colab-df-buttons\">\n",
              "\n",
              "  <div class=\"colab-df-container\">\n",
              "    <button class=\"colab-df-convert\" onclick=\"convertToInteractive('df-20228978-e206-4ea5-9472-e0c6321d23de')\"\n",
              "            title=\"Convert this dataframe to an interactive table.\"\n",
              "            style=\"display:none;\">\n",
              "\n",
              "  <svg xmlns=\"http://www.w3.org/2000/svg\" height=\"24px\" viewBox=\"0 -960 960 960\">\n",
              "    <path d=\"M120-120v-720h720v720H120Zm60-500h600v-160H180v160Zm220 220h160v-160H400v160Zm0 220h160v-160H400v160ZM180-400h160v-160H180v160Zm440 0h160v-160H620v160ZM180-180h160v-160H180v160Zm440 0h160v-160H620v160Z\"/>\n",
              "  </svg>\n",
              "    </button>\n",
              "\n",
              "  <style>\n",
              "    .colab-df-container {\n",
              "      display:flex;\n",
              "      gap: 12px;\n",
              "    }\n",
              "\n",
              "    .colab-df-convert {\n",
              "      background-color: #E8F0FE;\n",
              "      border: none;\n",
              "      border-radius: 50%;\n",
              "      cursor: pointer;\n",
              "      display: none;\n",
              "      fill: #1967D2;\n",
              "      height: 32px;\n",
              "      padding: 0 0 0 0;\n",
              "      width: 32px;\n",
              "    }\n",
              "\n",
              "    .colab-df-convert:hover {\n",
              "      background-color: #E2EBFA;\n",
              "      box-shadow: 0px 1px 2px rgba(60, 64, 67, 0.3), 0px 1px 3px 1px rgba(60, 64, 67, 0.15);\n",
              "      fill: #174EA6;\n",
              "    }\n",
              "\n",
              "    .colab-df-buttons div {\n",
              "      margin-bottom: 4px;\n",
              "    }\n",
              "\n",
              "    [theme=dark] .colab-df-convert {\n",
              "      background-color: #3B4455;\n",
              "      fill: #D2E3FC;\n",
              "    }\n",
              "\n",
              "    [theme=dark] .colab-df-convert:hover {\n",
              "      background-color: #434B5C;\n",
              "      box-shadow: 0px 1px 3px 1px rgba(0, 0, 0, 0.15);\n",
              "      filter: drop-shadow(0px 1px 2px rgba(0, 0, 0, 0.3));\n",
              "      fill: #FFFFFF;\n",
              "    }\n",
              "  </style>\n",
              "\n",
              "    <script>\n",
              "      const buttonEl =\n",
              "        document.querySelector('#df-20228978-e206-4ea5-9472-e0c6321d23de button.colab-df-convert');\n",
              "      buttonEl.style.display =\n",
              "        google.colab.kernel.accessAllowed ? 'block' : 'none';\n",
              "\n",
              "      async function convertToInteractive(key) {\n",
              "        const element = document.querySelector('#df-20228978-e206-4ea5-9472-e0c6321d23de');\n",
              "        const dataTable =\n",
              "          await google.colab.kernel.invokeFunction('convertToInteractive',\n",
              "                                                    [key], {});\n",
              "        if (!dataTable) return;\n",
              "\n",
              "        const docLinkHtml = 'Like what you see? Visit the ' +\n",
              "          '<a target=\"_blank\" href=https://colab.research.google.com/notebooks/data_table.ipynb>data table notebook</a>'\n",
              "          + ' to learn more about interactive tables.';\n",
              "        element.innerHTML = '';\n",
              "        dataTable['output_type'] = 'display_data';\n",
              "        await google.colab.output.renderOutput(dataTable, element);\n",
              "        const docLink = document.createElement('div');\n",
              "        docLink.innerHTML = docLinkHtml;\n",
              "        element.appendChild(docLink);\n",
              "      }\n",
              "    </script>\n",
              "  </div>\n",
              "\n",
              "\n",
              "<div id=\"df-b7b9e6fc-2081-4cd6-990e-2c5bdbbbc887\">\n",
              "  <button class=\"colab-df-quickchart\" onclick=\"quickchart('df-b7b9e6fc-2081-4cd6-990e-2c5bdbbbc887')\"\n",
              "            title=\"Suggest charts\"\n",
              "            style=\"display:none;\">\n",
              "\n",
              "<svg xmlns=\"http://www.w3.org/2000/svg\" height=\"24px\"viewBox=\"0 0 24 24\"\n",
              "     width=\"24px\">\n",
              "    <g>\n",
              "        <path d=\"M19 3H5c-1.1 0-2 .9-2 2v14c0 1.1.9 2 2 2h14c1.1 0 2-.9 2-2V5c0-1.1-.9-2-2-2zM9 17H7v-7h2v7zm4 0h-2V7h2v10zm4 0h-2v-4h2v4z\"/>\n",
              "    </g>\n",
              "</svg>\n",
              "  </button>\n",
              "\n",
              "<style>\n",
              "  .colab-df-quickchart {\n",
              "      --bg-color: #E8F0FE;\n",
              "      --fill-color: #1967D2;\n",
              "      --hover-bg-color: #E2EBFA;\n",
              "      --hover-fill-color: #174EA6;\n",
              "      --disabled-fill-color: #AAA;\n",
              "      --disabled-bg-color: #DDD;\n",
              "  }\n",
              "\n",
              "  [theme=dark] .colab-df-quickchart {\n",
              "      --bg-color: #3B4455;\n",
              "      --fill-color: #D2E3FC;\n",
              "      --hover-bg-color: #434B5C;\n",
              "      --hover-fill-color: #FFFFFF;\n",
              "      --disabled-bg-color: #3B4455;\n",
              "      --disabled-fill-color: #666;\n",
              "  }\n",
              "\n",
              "  .colab-df-quickchart {\n",
              "    background-color: var(--bg-color);\n",
              "    border: none;\n",
              "    border-radius: 50%;\n",
              "    cursor: pointer;\n",
              "    display: none;\n",
              "    fill: var(--fill-color);\n",
              "    height: 32px;\n",
              "    padding: 0;\n",
              "    width: 32px;\n",
              "  }\n",
              "\n",
              "  .colab-df-quickchart:hover {\n",
              "    background-color: var(--hover-bg-color);\n",
              "    box-shadow: 0 1px 2px rgba(60, 64, 67, 0.3), 0 1px 3px 1px rgba(60, 64, 67, 0.15);\n",
              "    fill: var(--button-hover-fill-color);\n",
              "  }\n",
              "\n",
              "  .colab-df-quickchart-complete:disabled,\n",
              "  .colab-df-quickchart-complete:disabled:hover {\n",
              "    background-color: var(--disabled-bg-color);\n",
              "    fill: var(--disabled-fill-color);\n",
              "    box-shadow: none;\n",
              "  }\n",
              "\n",
              "  .colab-df-spinner {\n",
              "    border: 2px solid var(--fill-color);\n",
              "    border-color: transparent;\n",
              "    border-bottom-color: var(--fill-color);\n",
              "    animation:\n",
              "      spin 1s steps(1) infinite;\n",
              "  }\n",
              "\n",
              "  @keyframes spin {\n",
              "    0% {\n",
              "      border-color: transparent;\n",
              "      border-bottom-color: var(--fill-color);\n",
              "      border-left-color: var(--fill-color);\n",
              "    }\n",
              "    20% {\n",
              "      border-color: transparent;\n",
              "      border-left-color: var(--fill-color);\n",
              "      border-top-color: var(--fill-color);\n",
              "    }\n",
              "    30% {\n",
              "      border-color: transparent;\n",
              "      border-left-color: var(--fill-color);\n",
              "      border-top-color: var(--fill-color);\n",
              "      border-right-color: var(--fill-color);\n",
              "    }\n",
              "    40% {\n",
              "      border-color: transparent;\n",
              "      border-right-color: var(--fill-color);\n",
              "      border-top-color: var(--fill-color);\n",
              "    }\n",
              "    60% {\n",
              "      border-color: transparent;\n",
              "      border-right-color: var(--fill-color);\n",
              "    }\n",
              "    80% {\n",
              "      border-color: transparent;\n",
              "      border-right-color: var(--fill-color);\n",
              "      border-bottom-color: var(--fill-color);\n",
              "    }\n",
              "    90% {\n",
              "      border-color: transparent;\n",
              "      border-bottom-color: var(--fill-color);\n",
              "    }\n",
              "  }\n",
              "</style>\n",
              "\n",
              "  <script>\n",
              "    async function quickchart(key) {\n",
              "      const quickchartButtonEl =\n",
              "        document.querySelector('#' + key + ' button');\n",
              "      quickchartButtonEl.disabled = true;  // To prevent multiple clicks.\n",
              "      quickchartButtonEl.classList.add('colab-df-spinner');\n",
              "      try {\n",
              "        const charts = await google.colab.kernel.invokeFunction(\n",
              "            'suggestCharts', [key], {});\n",
              "      } catch (error) {\n",
              "        console.error('Error during call to suggestCharts:', error);\n",
              "      }\n",
              "      quickchartButtonEl.classList.remove('colab-df-spinner');\n",
              "      quickchartButtonEl.classList.add('colab-df-quickchart-complete');\n",
              "    }\n",
              "    (() => {\n",
              "      let quickchartButtonEl =\n",
              "        document.querySelector('#df-b7b9e6fc-2081-4cd6-990e-2c5bdbbbc887 button');\n",
              "      quickchartButtonEl.style.display =\n",
              "        google.colab.kernel.accessAllowed ? 'block' : 'none';\n",
              "    })();\n",
              "  </script>\n",
              "</div>\n",
              "\n",
              "  <div id=\"id_18915e29-0466-4e28-b58e-de272631fe96\">\n",
              "    <style>\n",
              "      .colab-df-generate {\n",
              "        background-color: #E8F0FE;\n",
              "        border: none;\n",
              "        border-radius: 50%;\n",
              "        cursor: pointer;\n",
              "        display: none;\n",
              "        fill: #1967D2;\n",
              "        height: 32px;\n",
              "        padding: 0 0 0 0;\n",
              "        width: 32px;\n",
              "      }\n",
              "\n",
              "      .colab-df-generate:hover {\n",
              "        background-color: #E2EBFA;\n",
              "        box-shadow: 0px 1px 2px rgba(60, 64, 67, 0.3), 0px 1px 3px 1px rgba(60, 64, 67, 0.15);\n",
              "        fill: #174EA6;\n",
              "      }\n",
              "\n",
              "      [theme=dark] .colab-df-generate {\n",
              "        background-color: #3B4455;\n",
              "        fill: #D2E3FC;\n",
              "      }\n",
              "\n",
              "      [theme=dark] .colab-df-generate:hover {\n",
              "        background-color: #434B5C;\n",
              "        box-shadow: 0px 1px 3px 1px rgba(0, 0, 0, 0.15);\n",
              "        filter: drop-shadow(0px 1px 2px rgba(0, 0, 0, 0.3));\n",
              "        fill: #FFFFFF;\n",
              "      }\n",
              "    </style>\n",
              "    <button class=\"colab-df-generate\" onclick=\"generateWithVariable('submission')\"\n",
              "            title=\"Generate code using this dataframe.\"\n",
              "            style=\"display:none;\">\n",
              "\n",
              "  <svg xmlns=\"http://www.w3.org/2000/svg\" height=\"24px\"viewBox=\"0 0 24 24\"\n",
              "       width=\"24px\">\n",
              "    <path d=\"M7,19H8.4L18.45,9,17,7.55,7,17.6ZM5,21V16.75L18.45,3.32a2,2,0,0,1,2.83,0l1.4,1.43a1.91,1.91,0,0,1,.58,1.4,1.91,1.91,0,0,1-.58,1.4L9.25,21ZM18.45,9,17,7.55Zm-12,3A5.31,5.31,0,0,0,4.9,8.1,5.31,5.31,0,0,0,1,6.5,5.31,5.31,0,0,0,4.9,4.9,5.31,5.31,0,0,0,6.5,1,5.31,5.31,0,0,0,8.1,4.9,5.31,5.31,0,0,0,12,6.5,5.46,5.46,0,0,0,6.5,12Z\"/>\n",
              "  </svg>\n",
              "    </button>\n",
              "    <script>\n",
              "      (() => {\n",
              "      const buttonEl =\n",
              "        document.querySelector('#id_18915e29-0466-4e28-b58e-de272631fe96 button.colab-df-generate');\n",
              "      buttonEl.style.display =\n",
              "        google.colab.kernel.accessAllowed ? 'block' : 'none';\n",
              "\n",
              "      buttonEl.onclick = () => {\n",
              "        google.colab.notebook.generateWithVariable('submission');\n",
              "      }\n",
              "      })();\n",
              "    </script>\n",
              "  </div>\n",
              "\n",
              "    </div>\n",
              "  </div>\n"
            ],
            "application/vnd.google.colaboratory.intrinsic+json": {
              "type": "dataframe",
              "variable_name": "submission",
              "summary": "{\n  \"name\": \"submission\",\n  \"rows\": 130,\n  \"fields\": [\n    {\n      \"column\": \"Id\",\n      \"properties\": {\n        \"dtype\": \"number\",\n        \"std\": 37,\n        \"min\": 1341,\n        \"max\": 1470,\n        \"num_unique_values\": 130,\n        \"samples\": [\n          1396,\n          1381,\n          1360\n        ],\n        \"semantic_type\": \"\",\n        \"description\": \"\"\n      }\n    },\n    {\n      \"column\": \"SalePrice\",\n      \"properties\": {\n        \"dtype\": \"number\",\n        \"std\": 83359.72577408762,\n        \"min\": 72094.10467015678,\n        \"max\": 720532.2341059691,\n        \"num_unique_values\": 129,\n        \"samples\": [\n          249159.55247984687,\n          145096.71819236278,\n          200499.69343973955\n        ],\n        \"semantic_type\": \"\",\n        \"description\": \"\"\n      }\n    }\n  ]\n}"
            }
          },
          "metadata": {}
        },
        {
          "output_type": "stream",
          "name": "stdout",
          "text": [
            "아이디:  22011271@sju.ac.kr\n",
            "파일명:  submissions/20240512-022023-submission.csv\n",
            "============================================================\n",
            "[제출에 성공하였습니다]\n",
            "제출 결과: 26654.851826199774\n"
          ]
        }
      ]
    }
  ],
  "metadata": {
    "kernelspec": {
      "display_name": "dl",
      "language": "python",
      "name": "python3"
    },
    "language_info": {
      "codemirror_mode": {
        "name": "ipython",
        "version": 3
      },
      "file_extension": ".py",
      "mimetype": "text/x-python",
      "name": "python",
      "nbconvert_exporter": "python",
      "pygments_lexer": "ipython3",
      "version": "3.10.14"
    },
    "colab": {
      "provenance": [],
      "include_colab_link": true
    }
  },
  "nbformat": 4,
  "nbformat_minor": 0
}